{
 "cells": [
  {
   "cell_type": "code",
   "execution_count": 1,
   "metadata": {},
   "outputs": [],
   "source": [
    "# Imports\n",
    "import pandas as pd\n",
    "import numpy as np\n",
    "import matplotlib.pyplot as plt\n",
    "import seaborn as sns"
   ]
  },
  {
   "cell_type": "code",
   "execution_count": 6,
   "metadata": {},
   "outputs": [
    {
     "name": "stdout",
     "output_type": "stream",
     "text": [
      "<class 'pandas.core.frame.DataFrame'>\n",
      "RangeIndex: 59580 entries, 0 to 59579\n",
      "Data columns (total 15 columns):\n",
      " #   Column           Non-Null Count  Dtype  \n",
      "---  ------           --------------  -----  \n",
      " 0   submission_date  59580 non-null  object \n",
      " 1   state            59580 non-null  object \n",
      " 2   tot_cases        59580 non-null  int64  \n",
      " 3   conf_cases       33738 non-null  float64\n",
      " 4   prob_cases       33666 non-null  float64\n",
      " 5   new_case         59580 non-null  int64  \n",
      " 6   pnew_case        56054 non-null  float64\n",
      " 7   tot_death        59580 non-null  int64  \n",
      " 8   conf_death       32993 non-null  float64\n",
      " 9   prob_death       32993 non-null  float64\n",
      " 10  new_death        59580 non-null  int64  \n",
      " 11  pnew_death       56086 non-null  float64\n",
      " 12  created_at       59580 non-null  object \n",
      " 13  consent_cases    49645 non-null  object \n",
      " 14  consent_deaths   50643 non-null  object \n",
      "dtypes: float64(6), int64(4), object(5)\n",
      "memory usage: 6.8+ MB\n"
     ]
    }
   ],
   "source": [
    "df = pd.read_csv(\"datasets/United_States_COVID-19_Cases_and_Deaths_by_State_over_Time.csv\")\n",
    "df.info()"
   ]
  },
  {
   "cell_type": "code",
   "execution_count": 4,
   "metadata": {},
   "outputs": [
    {
     "data": {
      "text/plain": [
       "Index(['date', 'location_key', 'new_confirmed', 'new_deceased',\n",
       "       'new_recovered', 'new_tested', 'cumulative_confirmed',\n",
       "       'cumulative_deceased', 'cumulative_recovered', 'cumulative_tested'],\n",
       "      dtype='object')"
      ]
     },
     "execution_count": 4,
     "metadata": {},
     "output_type": "execute_result"
    }
   ],
   "source": [
    "df.columns"
   ]
  },
  {
   "cell_type": "code",
   "execution_count": 7,
   "metadata": {},
   "outputs": [
    {
     "data": {
      "text/plain": [
       "array(['KS', 'UT', 'AS', 'ND', 'IN', 'AR', 'NY', 'PW', 'NM', 'SD', 'OH',\n",
       "       'AK', 'CO', 'OK', 'GU', 'FL', 'TN', 'WA', 'AL', 'NYC', 'GA', 'MS',\n",
       "       'IA', 'WV', 'TX', 'PA', 'MA', 'MP', 'PR', 'RMI', 'HI', 'OR', 'MD',\n",
       "       'VT', 'DC', 'NJ', 'NE', 'DE', 'VA', 'MN', 'KY', 'FSM', 'AZ', 'WY',\n",
       "       'ME', 'SC', 'CT', 'WI', 'MI', 'NV', 'CA', 'IL', 'MO', 'LA', 'ID',\n",
       "       'MT', 'NC', 'RI', 'NH', 'VI'], dtype=object)"
      ]
     },
     "execution_count": 7,
     "metadata": {},
     "output_type": "execute_result"
    }
   ],
   "source": [
    "df['state'].unique()"
   ]
  },
  {
   "cell_type": "code",
   "execution_count": null,
   "metadata": {},
   "outputs": [],
   "source": [
    "### Data Cleaning \n",
    "\n",
    "#TODO: Stratify the data by state\n",
    "#TODO: For each datasets take the new cases and new deaths and aggregate them by week\n",
    "#TODO: Plot the missing data and see imputation methods for missing data"
   ]
  },
  {
   "cell_type": "code",
   "execution_count": null,
   "metadata": {},
   "outputs": [],
   "source": [
    "# Stratify the data by state\n",
    "dfs = [df[df['state'] == region] for region in df['state'].unique()]\n",
    "\n",
    "for df in dfs:\n",
    "    df['date'] = pd.to_datetime(df['date'])\n",
    "    # Aggregate the data by week\n",
    "    df = df.resample('W', on='date').sum()\n",
    "    # Select the columns we want \n",
    "    df = df.loc[:, ['date', 'new_case', 'new_death', 'state']]\n",
    "\n",
    "    # Plot the missing data\n",
    "    ax, fig = plt.subplots(figsize=(10, 5))\n",
    "    sns.heatmap(df.isnull(), cbar=False)\n",
    "    plt.show()\n",
    "    "
   ]
  },
  {
   "cell_type": "code",
   "execution_count": 3,
   "metadata": {},
   "outputs": [],
   "source": [
    "neighbors = [\n",
    "  {\n",
    "    \"code\": \"AK\",\n",
    "    \"Neighborcodes\": [ \"WA\" ]\n",
    "  },\n",
    "  {\n",
    "    \"code\": \"AL\",\n",
    "    \"Neighborcodes\": [ \"FL\", \"GA\", \"MS\", \"TN\" ]\n",
    "  },\n",
    "  {\n",
    "    \"code\": \"AR\",\n",
    "    \"Neighborcodes\": [ \"LA\", \"MO\", \"MS\", \"OK\", \"TN\", \"TX\" ]\n",
    "  },\n",
    "  {\n",
    "    \"code\": \"AZ\",\n",
    "    \"Neighborcodes\": [ \"CA\", \"CO\", \"NM\", \"NV\", \"UT\" ]\n",
    "  },\n",
    "  {\n",
    "    \"code\": \"CA\",\n",
    "    \"Neighborcodes\": [ \"AZ\", \"HI\", \"NV\", \"OR\" ]\n",
    "  },\n",
    "  {\n",
    "    \"code\": \"CO\",\n",
    "    \"Neighborcodes\": [ \"AZ\", \"KS\", \"NE\", \"NM\", \"OK\", \"UT\", \"WY\" ]\n",
    "  },\n",
    "  {\n",
    "    \"code\": \"CT\",\n",
    "    \"Neighborcodes\": [ \"MA\", \"NY\", \"RI\" ]\n",
    "  },\n",
    "  {\n",
    "    \"code\": \"DC\",\n",
    "    \"Neighborcodes\": [ \"MD\", \"VA\" ]\n",
    "  },\n",
    "  {\n",
    "    \"code\": \"DE\",\n",
    "    \"Neighborcodes\": [ \"MD\", \"NJ\", \"PA\" ]\n",
    "  },\n",
    "  {\n",
    "    \"code\": \"FL\",\n",
    "    \"Neighborcodes\": [ \"AL\", \"GA\" ]\n",
    "  },\n",
    "  {\n",
    "    \"code\": \"GA\",\n",
    "    \"Neighborcodes\": [ \"AL\", \"FL\", \"NC\", \"SC\", \"TN\" ]\n",
    "  },\n",
    "  {\n",
    "    \"code\": \"HI\",\n",
    "    \"Neighborcodes\": [ \"CA\" ]\n",
    "  },\n",
    "  {\n",
    "    \"code\": \"IA\",\n",
    "    \"Neighborcodes\": [ \"IL\", \"MN\", \"MO\", \"NE\", \"SD\", \"WI\" ]\n",
    "  },\n",
    "  {\n",
    "    \"code\": \"ID\",\n",
    "    \"Neighborcodes\": [ \"MT\", \"NV\", \"OR\", \"UT\", \"WA\", \"WY\" ]\n",
    "  },\n",
    "  {\n",
    "    \"code\": \"IL\",\n",
    "    \"Neighborcodes\": [ \"IA\", \"IN\", \"KY\", \"MO\", \"WI\" ]\n",
    "  },\n",
    "  {\n",
    "    \"code\": \"IN\",\n",
    "    \"Neighborcodes\": [ \"IL\", \"KY\", \"MO\", \"WI\" ]\n",
    "  },\n",
    "  {\n",
    "    \"code\": \"KS\",\n",
    "    \"Neighborcodes\": [ \"CO\", \"MO\", \"NE\", \"OK\" ]\n",
    "  },\n",
    "  {\n",
    "    \"code\": \"KY\",\n",
    "    \"Neighborcodes\": [ \"IL\", \"IN\", \"MO\", \"OH\", \"TN\", \"VA\", \"WV\" ]\n",
    "  },\n",
    "  {\n",
    "    \"code\": \"LA\",\n",
    "    \"Neighborcodes\": [ \"AR\", \"MS\", \"TX\" ]\n",
    "  },\n",
    "  {\n",
    "    \"code\": \"MA\",\n",
    "    \"Neighborcodes\": [ \"CT\", \"NH\", \"NY\", \"RI\", \"VT\" ]\n",
    "  },\n",
    "  {\n",
    "    \"code\": \"MD\",\n",
    "    \"Neighborcodes\": [ \"DC\", \"DE\", \"PA\", \"VA\", \"WV\" ]\n",
    "  },\n",
    "  {\n",
    "    \"code\": \"ME\",\n",
    "    \"Neighborcodes\": [ \"NH\" ]\n",
    "  },\n",
    "  {\n",
    "    \"code\": \"MI\",\n",
    "    \"Neighborcodes\": [ \"IN\", \"OH\", \"WI\" ]\n",
    "  },\n",
    "  {\n",
    "    \"code\": \"MN\",\n",
    "    \"Neighborcodes\": [ \"IA\", \"ND\", \"SD\", \"WI\" ]\n",
    "  },\n",
    "  {\n",
    "    \"code\": \"MO\",\n",
    "    \"Neighborcodes\": [ \"AR\", \"IA\", \"IL\", \"KS\", \"KY\", \"NE\", \"OK\", \"TN\" ]\n",
    "  },\n",
    "  {\n",
    "    \"code\": \"MS\",\n",
    "    \"Neighborcodes\": [ \"AL\", \"AR\", \"LA\", \"TN\" ]\n",
    "  },\n",
    "  {\n",
    "    \"code\": \"MT\",\n",
    "    \"Neighborcodes\": [ \"ID\", \"ND\", \"SD\", \"WY\" ]\n",
    "  },\n",
    "  {\n",
    "    \"code\": \"NC\",\n",
    "    \"Neighborcodes\": [ \"GA\", \"SC\", \"TN\", \"VA\" ]\n",
    "  },\n",
    "  {\n",
    "    \"code\": \"ND\",\n",
    "    \"Neighborcodes\": [ \"MN\", \"MT\", \"SD\" ]\n",
    "  },\n",
    "  {\n",
    "    \"code\": \"NE\",\n",
    "    \"Neighborcodes\": [ \"CO\", \"IA\", \"KS\", \"MO\", \"SD\", \"WY\" ]\n",
    "  },\n",
    "  {\n",
    "    \"code\": \"NH\",\n",
    "    \"Neighborcodes\": [ \"MA\", \"ME\", \"VT\" ]\n",
    "  },\n",
    "  {\n",
    "    \"code\": \"NJ\",\n",
    "    \"Neighborcodes\": [ \"DE\", \"NY\", \"PA\" ]\n",
    "  },\n",
    "  {\n",
    "    \"code\": \"NM\",\n",
    "    \"Neighborcodes\": [ \"AZ\", \"CO\", \"OK\", \"TX\", \"UT\" ]\n",
    "  },\n",
    "  {\n",
    "    \"code\": \"NV\",\n",
    "    \"Neighborcodes\": [ \"AZ\", \"CA\", \"ID\", \"OR\", \"UT\" ]\n",
    "  },\n",
    "  {\n",
    "    \"code\": \"NY\",\n",
    "    \"Neighborcodes\": [ \"CT\", \"MA\", \"NJ\", \"PA\", \"VT\" ]\n",
    "  },\n",
    "  {\n",
    "    \"code\": \"OH\",\n",
    "    \"Neighborcodes\": [ \"IN\", \"KY\", \"MI\", \"PA\", \"WV\" ]\n",
    "  },\n",
    "  {\n",
    "    \"code\": \"OK\",\n",
    "    \"Neighborcodes\": [ \"AR\", \"CO\", \"KS\", \"MO\", \"NM\", \"TX\" ]\n",
    "  },\n",
    "  {\n",
    "    \"code\": \"OR\",\n",
    "    \"Neighborcodes\": [ \"CA\", \"ID\", \"NV\", \"WA\" ]\n",
    "  },\n",
    "  {\n",
    "    \"code\": \"PA\",\n",
    "    \"Neighborcodes\": [ \"DE\", \"MD\", \"NJ\", \"NY\", \"OH\", \"WV\" ]\n",
    "  },\n",
    "  {\n",
    "    \"code\": \"RI\",\n",
    "    \"Neighborcodes\": [ \"CT\", \"MA\" ]\n",
    "  },\n",
    "  {\n",
    "    \"code\": \"SC\",\n",
    "    \"Neighborcodes\": [ \"GA\", \"NC\" ]\n",
    "  },\n",
    "  {\n",
    "    \"code\": \"SD\",\n",
    "    \"Neighborcodes\": [ \"IA\", \"MN\", \"MT\", \"ND\", \"NE\", \"WY\" ]\n",
    "  },\n",
    "  {\n",
    "    \"code\": \"TN\",\n",
    "    \"Neighborcodes\": [ \"AL\", \"AR\", \"GA\", \"KY\", \"MO\", \"MS\", \"NC\", \"VA\" ]\n",
    "  },\n",
    "  {\n",
    "    \"code\": \"TX\",\n",
    "    \"Neighborcodes\": [ \"AR\", \"LA\", \"NM\", \"OK\" ]\n",
    "  },\n",
    "  {\n",
    "    \"code\": \"UT\",\n",
    "    \"Neighborcodes\": [ \"AZ\", \"CO\", \"ID\", \"NM\", \"NV\", \"WY\" ]\n",
    "  },\n",
    "  {\n",
    "    \"code\": \"VA\",\n",
    "    \"Neighborcodes\": [ \"DC\", \"KY\", \"MD\", \"NC\", \"TN\", \"WV\" ]\n",
    "  },\n",
    "  {\n",
    "    \"code\": \"VT\",\n",
    "    \"Neighborcodes\": [ \"MA\", \"NH\", \"NY\" ]\n",
    "  },\n",
    "  {\n",
    "    \"code\": \"WA\",\n",
    "    \"Neighborcodes\": [ \"AK\", \"ID\", \"OR\" ]\n",
    "  },\n",
    "  {\n",
    "    \"code\": \"WI\",\n",
    "    \"Neighborcodes\": [ \"IA\", \"IL\", \"MI\", \"MN\" ]\n",
    "  },\n",
    "  {\n",
    "    \"code\": \"WV\",\n",
    "    \"Neighborcodes\": [ \"KY\", \"MD\", \"OH\", \"PA\", \"VA\" ]\n",
    "  },\n",
    "  {\n",
    "    \"code\": \"WY\",\n",
    "    \"Neighborcodes\": [ \"CO\", \"ID\", \"MT\", \"NE\", \"SD\", \"UT\" ]\n",
    "  }\n",
    "]"
   ]
  },
  {
   "cell_type": "code",
   "execution_count": 4,
   "metadata": {},
   "outputs": [],
   "source": [
    "variwant = {}\n",
    "for i in range(len(neighbors)):\n",
    "    variwant[neighbors[i]['code']] = neighbors[i]['Neighborcodes']"
   ]
  },
  {
   "cell_type": "code",
   "execution_count": 5,
   "metadata": {},
   "outputs": [
    {
     "name": "stdout",
     "output_type": "stream",
     "text": [
      "{'AK': ['WA'], 'AL': ['FL', 'GA', 'MS', 'TN'], 'AR': ['LA', 'MO', 'MS', 'OK', 'TN', 'TX'], 'AZ': ['CA', 'CO', 'NM', 'NV', 'UT'], 'CA': ['AZ', 'HI', 'NV', 'OR'], 'CO': ['AZ', 'KS', 'NE', 'NM', 'OK', 'UT', 'WY'], 'CT': ['MA', 'NY', 'RI'], 'DC': ['MD', 'VA'], 'DE': ['MD', 'NJ', 'PA'], 'FL': ['AL', 'GA'], 'GA': ['AL', 'FL', 'NC', 'SC', 'TN'], 'HI': ['CA'], 'IA': ['IL', 'MN', 'MO', 'NE', 'SD', 'WI'], 'ID': ['MT', 'NV', 'OR', 'UT', 'WA', 'WY'], 'IL': ['IA', 'IN', 'KY', 'MO', 'WI'], 'IN': ['IL', 'KY', 'MO', 'WI'], 'KS': ['CO', 'MO', 'NE', 'OK'], 'KY': ['IL', 'IN', 'MO', 'OH', 'TN', 'VA', 'WV'], 'LA': ['AR', 'MS', 'TX'], 'MA': ['CT', 'NH', 'NY', 'RI', 'VT'], 'MD': ['DC', 'DE', 'PA', 'VA', 'WV'], 'ME': ['NH'], 'MI': ['IN', 'OH', 'WI'], 'MN': ['IA', 'ND', 'SD', 'WI'], 'MO': ['AR', 'IA', 'IL', 'KS', 'KY', 'NE', 'OK', 'TN'], 'MS': ['AL', 'AR', 'LA', 'TN'], 'MT': ['ID', 'ND', 'SD', 'WY'], 'NC': ['GA', 'SC', 'TN', 'VA'], 'ND': ['MN', 'MT', 'SD'], 'NE': ['CO', 'IA', 'KS', 'MO', 'SD', 'WY'], 'NH': ['MA', 'ME', 'VT'], 'NJ': ['DE', 'NY', 'PA'], 'NM': ['AZ', 'CO', 'OK', 'TX', 'UT'], 'NV': ['AZ', 'CA', 'ID', 'OR', 'UT'], 'NY': ['CT', 'MA', 'NJ', 'PA', 'VT'], 'OH': ['IN', 'KY', 'MI', 'PA', 'WV'], 'OK': ['AR', 'CO', 'KS', 'MO', 'NM', 'TX'], 'OR': ['CA', 'ID', 'NV', 'WA'], 'PA': ['DE', 'MD', 'NJ', 'NY', 'OH', 'WV'], 'RI': ['CT', 'MA'], 'SC': ['GA', 'NC'], 'SD': ['IA', 'MN', 'MT', 'ND', 'NE', 'WY'], 'TN': ['AL', 'AR', 'GA', 'KY', 'MO', 'MS', 'NC', 'VA'], 'TX': ['AR', 'LA', 'NM', 'OK'], 'UT': ['AZ', 'CO', 'ID', 'NM', 'NV', 'WY'], 'VA': ['DC', 'KY', 'MD', 'NC', 'TN', 'WV'], 'VT': ['MA', 'NH', 'NY'], 'WA': ['AK', 'ID', 'OR'], 'WI': ['IA', 'IL', 'MI', 'MN'], 'WV': ['KY', 'MD', 'OH', 'PA', 'VA'], 'WY': ['CO', 'ID', 'MT', 'NE', 'SD', 'UT']}\n"
     ]
    }
   ],
   "source": [
    "print(variwant)"
   ]
  },
  {
   "cell_type": "code",
   "execution_count": 6,
   "metadata": {},
   "outputs": [],
   "source": [
    "results = pd.read_csv('datasets/allstates_correlation_features.csv')"
   ]
  },
  {
   "cell_type": "code",
   "execution_count": 10,
   "metadata": {},
   "outputs": [
    {
     "data": {
      "text/plain": [
       "(21522, 9)"
      ]
     },
     "execution_count": 10,
     "metadata": {},
     "output_type": "execute_result"
    }
   ],
   "source": [
    "results.shape"
   ]
  }
 ],
 "metadata": {
  "kernelspec": {
   "display_name": "Python 3.10.4 ('cse8803e')",
   "language": "python",
   "name": "python3"
  },
  "language_info": {
   "codemirror_mode": {
    "name": "ipython",
    "version": 3
   },
   "file_extension": ".py",
   "mimetype": "text/x-python",
   "name": "python",
   "nbconvert_exporter": "python",
   "pygments_lexer": "ipython3",
   "version": "3.10.4"
  },
  "orig_nbformat": 4,
  "vscode": {
   "interpreter": {
    "hash": "52eb2e9aaa251fce06a7cb4186eb453f8b8c61cf125fe552a335749f5f35aeba"
   }
  }
 },
 "nbformat": 4,
 "nbformat_minor": 2
}
