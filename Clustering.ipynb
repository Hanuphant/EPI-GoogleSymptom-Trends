{
 "cells": [
  {
   "cell_type": "code",
   "execution_count": 1,
   "metadata": {},
   "outputs": [],
   "source": [
    "# Imports\n",
    "import pandas as pd\n",
    "import numpy as np\n",
    "import matplotlib.pyplot as plt\n",
    "import seaborn as sns\n",
    "from tqdm import tqdm\n",
    "from EDAModule.Initialize import *\n",
    "from EDAModule.State import State\n",
    "import plotly.express as px\n",
    "import warnings\n",
    "warnings.filterwarnings(\"ignore\")\n",
    "rng = np.random.default_rng(789)"
   ]
  },
  {
   "cell_type": "code",
   "execution_count": 3,
   "metadata": {},
   "outputs": [],
   "source": [
    "# regions = initialize()"
   ]
  },
  {
   "cell_type": "code",
   "execution_count": 4,
   "metadata": {},
   "outputs": [],
   "source": [
    "# states = [State(region) for region in regions]"
   ]
  },
  {
   "cell_type": "code",
   "execution_count": null,
   "metadata": {},
   "outputs": [],
   "source": [
    "# # Prepping the dataset\n",
    "# from multiprocessing import Process\n",
    "\n",
    "# def task(state):\n",
    "#     state.correlation_analysis()\n",
    "#     # Make the symptom column a tuple with the symptom name and state name\n",
    "#     # state.results['symptom'] = state.results['symptom'].apply(lambda x: (x, state.name))\n",
    "#     # Easier to have two columns rather than \n",
    "#     state.results['state'] = state.name\n",
    "\n",
    "# processes = []\n",
    "# for state in states:\n",
    "#     processes.append(Process(target=task, args=(state,)))\n",
    "\n",
    "# for process in processes:\n",
    "#     process.start()\n",
    "\n",
    "# for process in processes:\n",
    "#     process.join()"
   ]
  },
  {
   "cell_type": "code",
   "execution_count": null,
   "metadata": {},
   "outputs": [],
   "source": [
    "# # Some how the results are not being saved to the state object\n",
    "# # So we have to load them from the pickle file\n",
    "# for state in states:\n",
    "#     state.results = pd.read_pickle(f\"datasets/features/{state.name}/correlation_features.pkl\")\n",
    "#     state.results['state'] = state.name\n",
    "\n",
    "# # Concatenate the results\n",
    "# results = pd.concat([state.results for state in states], ignore_index=True)\n",
    "# pkl.dump(results, open(\"datasets/allstates_correlation_features.pkl\", \"wb\"))"
   ]
  },
  {
   "cell_type": "code",
   "execution_count": null,
   "metadata": {},
   "outputs": [],
   "source": [
    "# results = pkl.load(open(\"datasets/allstates_correlation_features.pkl\", \"rb\"))\n",
    "# results.to_csv(\"datasets/allstates_correlation_features.csv\", index=False)"
   ]
  },
  {
   "cell_type": "code",
   "execution_count": null,
   "metadata": {},
   "outputs": [],
   "source": [
    "results = pd.read_csv('datasets/allstates_correlation_features.csv')\n",
    "\n",
    "# The idea is to see if we have any conservation among features from different symptoms and regions\n",
    "backup = []\n",
    "features = ['grangerCasualityFtest', 'abscorrelation', 'ccfauc', 'ccf_lag1','mmcorrelation', 'time_lag']\n",
    "\n",
    "# Normalize columns to be between 0 and 1\n",
    "results[features] = results[features].apply(lambda x: (x - x.mean()) / (x.std()))\n",
    "\n",
    "# Remove the symptoms which have a correlation of less than 0\n",
    "mask = results[results['abscorrelation'] < 0]['symptom'].value_counts() >= 50\n",
    "remove_symptoms = mask[mask == True].index\n",
    "\n",
    "# Remove the symptoms which have granger causality Pval of greater than 0.05\n",
    "mask = results[results['grangerCausalityPVal'] > 0.05]['symptom'].value_counts() >= 50\n",
    "remove_symptoms = remove_symptoms.append(mask[mask == True].index)\n",
    "\n",
    "# Remove the symptoms\n",
    "results = results[~results['symptom'].isin(remove_symptoms)]\n",
    "\n",
    "# Reset the index\n",
    "results = results.reset_index(drop=True)"
   ]
  },
  {
   "cell_type": "code",
   "execution_count": null,
   "metadata": {},
   "outputs": [],
   "source": [
    "# For each feature we can make a 2D heatmap plot of the feature vs the symptom and the region\n",
    "for feature in [features]:\n",
    "\n",
    "    # Create a pivot table\n",
    "    pivoted = results.pivot_table(index='symptom', columns='state', values=feature)\n",
    "\n",
    "    # Sort by mean of the feature along states\n",
    "    pivoted = pivoted.reindex(pivoted.mean(axis=1).sort_values(ascending=False).index)\n",
    "\n",
    "    # Sort the columns by mean of the feature along symptoms\n",
    "    # pivoted = pivoted.reindex(pivoted.mean(axis=0).sort_values(ascending=False).index, axis=1)\n",
    "\n",
    "    plt.figure(figsize=(10, 10))\n",
    "    sns.heatmap(pivoted, cmap='viridis')\n",
    "    plt.title(feature)\n",
    "    plt.show()"
   ]
  },
  {
   "cell_type": "markdown",
   "metadata": {},
   "source": [
    "Ok there is a lot to deal with. According to the heatmaps we can kind of see the data's inherent nature. \n",
    "Based on that a few useful observations:\n",
    "1. `grangerCausalityPVal` is making it nuts and for clustering I feel should be inherently removed. We need to explore what other metrics I can add.\n",
    "2. `mmcorrelation`, `ccf_lag1`, `ccfauc` the distribution is kind of based on the regions. This is a red flag cause ideally the symptoms should be the causal effect and their correlation with the new cases is based on the region. Although not all is lost, it does have some conservation on the symptoms. Also there are visible symptoms which can be clustered together which are not performing at all. All three do this with varying degrees of success.\n",
    "3. `abscorrelation` the distibution is only based on the symptoms. That has to do with the normalizing technique applied in the correlation function. I wish there was a way to give more weights to this metric in the clustering but I don't know how will I ever do that. \n",
    "4. `time_lag` is absolute garbage. It has patterns of conservation with the symptoms but then again it's a metric from the cross-correlation function. Maybe we can include this.\n",
    "5. `grangerCausalityFtest` was a better option to take to measure the causality. It has a bad distribution with very big outliers and it's not based on the regions."
   ]
  },
  {
   "cell_type": "code",
   "execution_count": null,
   "metadata": {},
   "outputs": [],
   "source": [
    "# Scatter_matrix from plotly\n",
    "results['grangerselected'] = results['grangerCausalityPVal'].apply(lambda x: -np.log(x))\n",
    "\n",
    "fig = px.scatter_matrix(results, dimensions=['x','y'], color='grangerselected', height=800, width=800)\n",
    "fig.show()"
   ]
  },
  {
   "cell_type": "code",
   "execution_count": 7,
   "metadata": {},
   "outputs": [
    {
     "data": {
      "text/html": [
       "<div>\n",
       "<style scoped>\n",
       "    .dataframe tbody tr th:only-of-type {\n",
       "        vertical-align: middle;\n",
       "    }\n",
       "\n",
       "    .dataframe tbody tr th {\n",
       "        vertical-align: top;\n",
       "    }\n",
       "\n",
       "    .dataframe thead th {\n",
       "        text-align: right;\n",
       "    }\n",
       "</style>\n",
       "<table border=\"1\" class=\"dataframe\">\n",
       "  <thead>\n",
       "    <tr style=\"text-align: right;\">\n",
       "      <th></th>\n",
       "      <th>state</th>\n",
       "      <th>grangersymptoms</th>\n",
       "      <th>correlationsymptoms</th>\n",
       "    </tr>\n",
       "  </thead>\n",
       "  <tbody>\n",
       "    <tr>\n",
       "      <th>0</th>\n",
       "      <td>AL</td>\n",
       "      <td>[symptom:Eye pain, symptom:Cardiac arrest, sym...</td>\n",
       "      <td>[symptom:Rectal pain, symptom:Uterine contract...</td>\n",
       "    </tr>\n",
       "    <tr>\n",
       "      <th>1</th>\n",
       "      <td>AK</td>\n",
       "      <td>[symptom:Low-grade fever, symptom:Angina pecto...</td>\n",
       "      <td>[symptom:Photodermatitis, symptom:Shallow brea...</td>\n",
       "    </tr>\n",
       "    <tr>\n",
       "      <th>2</th>\n",
       "      <td>AZ</td>\n",
       "      <td>[symptom:Eye pain, symptom:Hypoxemia, symptom:...</td>\n",
       "      <td>[symptom:Angular cheilitis, symptom:Amenorrhea...</td>\n",
       "    </tr>\n",
       "    <tr>\n",
       "      <th>3</th>\n",
       "      <td>AR</td>\n",
       "      <td>[symptom:Throat irritation, symptom:Eye pain, ...</td>\n",
       "      <td>[symptom:Dyspareunia, symptom:Night terror, sy...</td>\n",
       "    </tr>\n",
       "    <tr>\n",
       "      <th>4</th>\n",
       "      <td>CA</td>\n",
       "      <td>[symptom:Eye pain, symptom:Throat irritation, ...</td>\n",
       "      <td>[symptom:Neck pain, symptom:Myocardial infarct...</td>\n",
       "    </tr>\n",
       "  </tbody>\n",
       "</table>\n",
       "</div>"
      ],
      "text/plain": [
       "  state                                    grangersymptoms  \\\n",
       "0    AL  [symptom:Eye pain, symptom:Cardiac arrest, sym...   \n",
       "1    AK  [symptom:Low-grade fever, symptom:Angina pecto...   \n",
       "2    AZ  [symptom:Eye pain, symptom:Hypoxemia, symptom:...   \n",
       "3    AR  [symptom:Throat irritation, symptom:Eye pain, ...   \n",
       "4    CA  [symptom:Eye pain, symptom:Throat irritation, ...   \n",
       "\n",
       "                                 correlationsymptoms  \n",
       "0  [symptom:Rectal pain, symptom:Uterine contract...  \n",
       "1  [symptom:Photodermatitis, symptom:Shallow brea...  \n",
       "2  [symptom:Angular cheilitis, symptom:Amenorrhea...  \n",
       "3  [symptom:Dyspareunia, symptom:Night terror, sy...  \n",
       "4  [symptom:Neck pain, symptom:Myocardial infarct...  "
      ]
     },
     "execution_count": 7,
     "metadata": {},
     "output_type": "execute_result"
    }
   ],
   "source": [
    "# results = pd.read_csv(\"datasets/allstates_correlation_features.csv\")\n",
    "# df = {'state': [], 'grangersymptoms':[], 'correlationsymptoms':[]}\n",
    "# number_of_symptoms = 20\n",
    "# for region in results['state'].unique():\n",
    "#     df['state'].append(region)\n",
    "#     df['grangersymptoms'].append(results[results['state'] == region].sort_values(by='grangerCausalityPVal', ascending=True).head(number_of_symptoms)['symptom'].values)\n",
    "#     df['correlationsymptoms'].append(results[results['state'] == region].sort_values(by='abscorrelation',  ascending=True).head(number_of_symptoms)['symptom'].values)\n",
    "\n",
    "# df = pd.DataFrame(df)\n",
    "# df.head()"
   ]
  },
  {
   "cell_type": "code",
   "execution_count": null,
   "metadata": {},
   "outputs": [],
   "source": [
    "from umap import UMAP\n",
    "coordinates = ['x', 'y']\n",
    "nn = int(results.shape[0])\n",
    "umap = UMAP(n_neighbors=nn, min_dist=0, n_components=2, random_state=789, n_epochs=5000)\n",
    "embedding = umap.fit_transform(results[features])\n",
    "embedding = pd.DataFrame(embedding, columns=coordinates)\n",
    "embedding['state'] = results['state']\n",
    "embedding['symptom'] = results['symptom']\n",
    "embedding['grangerCausalityPVal'] = results['grangerCausalityPVal']\n",
    "embedding['abscorrelation'] = results['abscorrelation']\n",
    "embedding['grangerselected'] = results['grangerselcted']"
   ]
  },
  {
   "cell_type": "code",
   "execution_count": null,
   "metadata": {},
   "outputs": [],
   "source": [
    "# Run OPTICS clustering \n",
    "from sklearn.cluster import OPTICS\n",
    "\n",
    "optics1 = OPTICS(min_samples=20, n_jobs = -1)\n",
    "optics1.fit(embedding[coordinates])\n",
    "embedding['optics'] = optics1.labels_\n",
    "\n",
    "optics2 = OPTICS(min_samples=20, n_jobs = -1)\n",
    "optics2.fit(results[features])\n",
    "results['optics'] = optics2.labels_"
   ]
  },
  {
   "cell_type": "code",
   "execution_count": null,
   "metadata": {},
   "outputs": [],
   "source": []
  },
  {
   "cell_type": "code",
   "execution_count": null,
   "metadata": {},
   "outputs": [],
   "source": []
  }
 ],
 "metadata": {
  "kernelspec": {
   "display_name": "Python 3.10.4 ('cse8803e')",
   "language": "python",
   "name": "python3"
  },
  "language_info": {
   "codemirror_mode": {
    "name": "ipython",
    "version": 3
   },
   "file_extension": ".py",
   "mimetype": "text/x-python",
   "name": "python",
   "nbconvert_exporter": "python",
   "pygments_lexer": "ipython3",
   "version": "3.10.4"
  },
  "orig_nbformat": 4,
  "vscode": {
   "interpreter": {
    "hash": "52eb2e9aaa251fce06a7cb4186eb453f8b8c61cf125fe552a335749f5f35aeba"
   }
  }
 },
 "nbformat": 4,
 "nbformat_minor": 2
}
